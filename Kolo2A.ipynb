{
 "cells": [
  {
   "cell_type": "markdown",
   "id": "f66c2ead-3dbd-4785-b95d-ebe29d58790e",
   "metadata": {},
   "source": [
    "## Kolokwium 2 - Uczenie Maszynowe - Grupa A\n",
    "\n",
    "_Imię, nazwisko, numer indeksu,_ Kierunek: 6IID-ID\n",
    "\n",
    "Pobierz z repozytorium https://gitlab.wsiz.pl/acousticlab/ml katalog `test` (np. na serwer https://jupyter.wsiz.edu.pl). W tym katalogu umieść niniejszy plik, wówczas będą prawidłowe importy.\n",
    "\n",
    "Poniższy formularz zawiera kody zbiorów danych i treningu sieci neuronowej do zadań 3 i 5. Dane do zadań 2 i 4 zawarte są w katalogu `data`\n",
    "\n",
    "Można wykorzystać materiały z laboratorium, ale nigdy nie może być dokładnie taka sama sieć jak w ćwiczeniach (tj co najmniej jedno z poniższych: inne liczby neuronów w warstwie, inne funkcje aktywacji, inna liczba warstw)."
   ]
  },
  {
   "cell_type": "markdown",
   "id": "f8ea6c2d-fc9a-41b6-b28e-fa280f5ca571",
   "metadata": {},
   "source": [
    "**Zad 3. Przygotowanie zbioru danych** Podaj jako `stud_id` numer indeksu (np. 12345)."
   ]
  },
  {
   "cell_type": "code",
   "execution_count": null,
   "id": "92a8e0b9-b4aa-4f46-a6fe-d04bac30b37c",
   "metadata": {},
   "outputs": [],
   "source": [
    "import torch\n",
    "import torch.nn.functional  as F\n",
    "from data import *"
   ]
  },
  {
   "cell_type": "code",
   "execution_count": null,
   "id": "9df8bf7b-b979-461f-aea3-a402a96e8322",
   "metadata": {},
   "outputs": [],
   "source": [
    "x,y=datasetA(stud_id=0,num=40) #stud_id -numer indeksu"
   ]
  },
  {
   "cell_type": "code",
   "execution_count": null,
   "id": "6ab2b1cf-d4ac-41fe-9279-927c64052447",
   "metadata": {},
   "outputs": [],
   "source": [
    "x.shape"
   ]
  },
  {
   "cell_type": "markdown",
   "id": "0adeedaa-4438-45bd-96bf-f01b205a74bb",
   "metadata": {},
   "source": [
    "Tutaj zbuduj sieć neuronową"
   ]
  },
  {
   "cell_type": "code",
   "execution_count": null,
   "id": "cb7293be-4246-4a77-96ed-f66356eecba3",
   "metadata": {},
   "outputs": [],
   "source": [
    "#class ...\n",
    "\n",
    "#model= ..."
   ]
  },
  {
   "cell_type": "markdown",
   "id": "d305d03a-6b85-47dd-9492-2a84e493135f",
   "metadata": {},
   "source": [
    "Kod treningu, nie wykonuje walidacji. Do zmiennej `model` przypisz obiekt sieci neuronowej. W przypadku budowy 2 sieci nie ma potrzeby pokazywania wyniku działania 2 sieci"
   ]
  },
  {
   "cell_type": "code",
   "execution_count": null,
   "id": "4f9e1586-2614-4023-800d-36a7d884e2a7",
   "metadata": {},
   "outputs": [],
   "source": [
    "#model=Net() #tutaj podaje klasę swojej sieci\n",
    "criterion = torch.nn.MSELoss(reduction='sum')\n",
    "optimizer = torch.optim.SGD(model.parameters(), lr=1e-3) #Adam\n",
    "for t in range(2000):\n",
    "    # Forward pass: Compute predicted y by passing x to the model\n",
    "    y_pred = model(x)\n",
    "        \n",
    "    # Compute and print loss\n",
    "    loss = criterion(y_pred, y)\n",
    "    if t % 100 == 99 or ( t<100 and t % 10 ==9 ) or ( t<10 ) :\n",
    "      print(t, loss.item())\n",
    "        \n",
    "    # Zero gradients, perform a backward pass, and update the weights.\n",
    "    optimizer.zero_grad()\n",
    "    loss.backward()\n",
    "    optimizer.step()"
   ]
  },
  {
   "cell_type": "markdown",
   "id": "a9564d18-e2e7-4dc5-81c4-b536a2dbef59",
   "metadata": {},
   "source": [
    "**Zad 5. Przygotowanie i zbiór danych** Podaj jako `stud_id` numer indeksu (np. 12345). Parametry zbioru danych sa podane poniżej kodu podziału."
   ]
  },
  {
   "cell_type": "code",
   "execution_count": null,
   "id": "3d8e80ee-73ce-4491-bb2e-59851473f62b",
   "metadata": {},
   "outputs": [],
   "source": [
    "from datasets24 import KolokwiumDatasetA\n",
    "\n",
    "import matplotlib.pyplot as plt\n",
    "import numpy as np\n",
    "\n",
    "def imshow(img):\n",
    "    img = img / 2 + 0.5     # unnormalize\n",
    "    npimg = img.numpy()\n",
    "    plt.imshow(np.transpose(npimg, (1, 2, 0)))\n",
    "    plt.show()\n",
    "\n",
    "data=KolokwiumDatasetA(stud_id=0) #stud_id ==numer indeksu"
   ]
  },
  {
   "cell_type": "code",
   "execution_count": null,
   "id": "b549c366-ee5f-4601-aa21-29a394e96d82",
   "metadata": {
    "tags": []
   },
   "outputs": [],
   "source": [
    "from torch.utils.data import DataLoader\n",
    "import torch\n",
    "import torch.nn as nn\n",
    "import torch.nn.functional as F\n",
    "\n",
    "train_size = int(0.7 * len(data))\n",
    "validation_size = len(data)-train_size\n",
    "train_data, valid_data = torch.utils.data.random_split(data, [train_size, validation_size])\n",
    "\n",
    "train_dataloader = DataLoader(train_data, batch_size=1, shuffle=True)\n",
    "validation_dataloader = DataLoader(valid_data, batch_size=1, shuffle=True)\n",
    "\n",
    "#Example data point: img -image, cls -class.\n",
    "img,cls=next(iter(train_dataloader))\n",
    "classes = ('plane', 'car', 'bird', 'cat') #In the set there are 4 classes\n",
    "print(f'img.shape {img[0].shape}') #image size, these are RGB images\n",
    "print('cls: ',int(cls[0]),classes[cls[0]])\n",
    "imshow(img[0])"
   ]
  },
  {
   "cell_type": "markdown",
   "id": "b3e8704b-773a-40a7-809f-71e548a27188",
   "metadata": {},
   "source": [
    "<b>Tutaj utwórz sieć</b>"
   ]
  },
  {
   "cell_type": "code",
   "execution_count": null,
   "id": "4330fcaf-1dcb-4a85-869b-ad71efa5fcf5",
   "metadata": {},
   "outputs": [],
   "source": []
  },
  {
   "cell_type": "code",
   "execution_count": null,
   "id": "caf09f4e-4efb-4312-ba6f-589906e0625a",
   "metadata": {
    "tags": []
   },
   "outputs": [],
   "source": [
    "#Training code\n",
    "import torch.optim as optim\n",
    "\n",
    "net = Net() #Tutaj podaj klasę twojej sieci\n",
    "criterion = nn.CrossEntropyLoss() \n",
    "optimizer = optim.SGD(net.parameters(), lr=0.1)#, momentum=0.9)\n",
    "\n",
    "for epoch in range(20):  # loop over the dataset multiple times\n",
    "    train_err__=0.0\n",
    "    valid_err__ =0.0\n",
    "    running_loss = 0.0\n",
    "\n",
    "    for i, data in enumerate(train_dataloader):\n",
    "\n",
    "        #Training\n",
    "        inputs, labels = data\n",
    "        optimizer.zero_grad()\n",
    "        inputs=inputs.float()\n",
    "        outputs = net(inputs)\n",
    "        loss = criterion(outputs, labels)\n",
    "        loss.backward()\n",
    "        optimizer.step()\n",
    "        train_err__+=loss.item()\n",
    "        \n",
    "        #validation\n",
    "    with torch.no_grad():\n",
    "        for inputs, labels in validation_dataloader:\n",
    "            outputs = net(inputs.float())\n",
    "            loss = criterion(outputs, labels)\n",
    "            valid_err__+=loss.item()\n",
    "            \n",
    "    print(f'[{epoch + 1}, {i + 1:5d}] training loss: {train_err__:.3f}, validation loss: {valid_err__ :.3f}')\n",
    "\n",
    "print('Finished Training')"
   ]
  }
 ],
 "metadata": {
  "kernelspec": {
   "display_name": "Python 3 (ipykernel)",
   "language": "python",
   "name": "python3"
  },
  "language_info": {
   "codemirror_mode": {
    "name": "ipython",
    "version": 3
   },
   "file_extension": ".py",
   "mimetype": "text/x-python",
   "name": "python",
   "nbconvert_exporter": "python",
   "pygments_lexer": "ipython3",
   "version": "3.9.15"
  }
 },
 "nbformat": 4,
 "nbformat_minor": 5
}
